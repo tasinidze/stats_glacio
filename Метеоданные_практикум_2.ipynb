{
 "cells": [
  {
   "cell_type": "markdown",
   "metadata": {},
   "source": [
    "# Одномерный анализ данных"
   ]
  },
  {
   "cell_type": "markdown",
   "metadata": {},
   "source": [
    "В начале всегда загружаем необходимые библиотеки.\n",
    "Для анализа данных обычно используется библиотека Pandas. Будем вызывать ее как `pd` для краткости. Тогда методы, которые есть в этой библиотеке, можно будет вызвать например так: `pd.head()` вместо `pandas.head()` для метода `head`"
   ]
  },
  {
   "cell_type": "code",
   "execution_count": 1,
   "metadata": {},
   "outputs": [],
   "source": [
    "%matplotlib inline\n",
    "import matplotlib.pyplot as plt\n",
    "import seaborn as sns\n",
    "import pandas as pd\n",
    "import numpy as np\n",
    "from matplotlib import dates"
   ]
  },
  {
   "cell_type": "markdown",
   "metadata": {},
   "source": [
    "### Метеостанция Терскол\n",
    "Данные с метеостанции Терскол постоянно используется всеми, кто занимается ледниками Приэльбрусья. \n",
    "Например, для моделирования ледника Джанкуат без этих данных не обойтись.\n",
    "\n",
    "Первым делом загружаем данные из таблицы. Задаем названия колонок, которые нам подходят (год, месяц, день, средняя температура, осадки)."
   ]
  },
  {
   "cell_type": "code",
   "execution_count": 2,
   "metadata": {},
   "outputs": [],
   "source": [
    "fields = ['year', 'month','day','Tmean','Prec'] # обозначение колонок\n",
    "\n",
    "terskol_data = pd.read_csv(\"terskol_1977-2018.csv\",\n",
    "                           usecols=fields,delimiter=\";\",error_bad_lines=False,decimal=\",\")"
   ]
  },
  {
   "cell_type": "markdown",
   "metadata": {},
   "source": [
    "`terskol_data` - это dataframe, с которым мы будем работать. Сперва нужно понять, что в нем содержится."
   ]
  },
  {
   "cell_type": "markdown",
   "metadata": {},
   "source": [
    "Легко посмотреть структуру массива с помощью метода head():"
   ]
  },
  {
   "cell_type": "code",
   "execution_count": 5,
   "metadata": {},
   "outputs": [
    {
     "name": "stdout",
     "output_type": "stream",
     "text": [
      "   year  month  day  Tmean  Prec\n",
      "0  1977      1    1  -11.9   0.0\n",
      "1  1977      1    2  -15.0   0.0\n",
      "2  1977      1    3  -19.4   0.0\n",
      "3  1977      1    4  -20.6   0.0\n",
      "4  1977      1    5  -18.9   0.0\n"
     ]
    }
   ],
   "source": [
    "print(terskol_data.head())"
   ]
  },
  {
   "cell_type": "markdown",
   "metadata": {},
   "source": [
    "Каждая переменная в датафрейме имеет свой тип. Для работы с числовыми переменными (температура, осадки) нужен тип float.\n",
    "Проверим, какие типы переменных у нас, используя атрибут `dtype`:"
   ]
  },
  {
   "cell_type": "code",
   "execution_count": null,
   "metadata": {},
   "outputs": [],
   "source": [
    "terskol_data.dtypes"
   ]
  },
  {
   "cell_type": "markdown",
   "metadata": {},
   "source": [
    "Видим, что первые три колонки (год, месяц, день) имеют тип int, то есть они целочисленные, как и должно быть.\n",
    "Последняя колонка Prec (осадки) имеет тип float, и это правильно. С Tmean придется разбираться.\n",
    "Во-первых, Tmean имеет тип object, нужно поменять тип переменной на float с помощью метода  `to_numeric`. \n",
    "Во-вторых, для этого разделители десятичных знаков должны быть не запятыми, а точками, нужно поменять тип данных для колонки температуры, используя метод  `replace`."
   ]
  },
  {
   "cell_type": "code",
   "execution_count": 4,
   "metadata": {},
   "outputs": [],
   "source": [
    "terskol_data['Tmean']=pd.to_numeric(terskol_data['Tmean'].str.replace(',','.'), errors='coerce')"
   ]
  },
  {
   "cell_type": "markdown",
   "metadata": {},
   "source": [
    "Теперь для того, чтобы с временным метеорядом было удобно работать, нужно, чтобы индексация была по дате.\n",
    "Для этого в библиотеке Pandas есть метод to_datetime, для которого нужно задать требуемый формат даты, которая получится, в нашем случае `'%Y%m%d'` означает год-месяц-день."
   ]
  },
  {
   "cell_type": "code",
   "execution_count": 6,
   "metadata": {},
   "outputs": [
    {
     "name": "stdout",
     "output_type": "stream",
     "text": [
      "            year  month  day  Tmean  Prec\n",
      "myDt                                     \n",
      "1977-01-01  1977      1    1  -11.9   0.0\n",
      "1977-01-02  1977      1    2  -15.0   0.0\n",
      "1977-01-03  1977      1    3  -19.4   0.0\n",
      "1977-01-04  1977      1    4  -20.6   0.0\n",
      "1977-01-05  1977      1    5  -18.9   0.0\n"
     ]
    }
   ],
   "source": [
    "# создаем колонку для времени\n",
    "terskol_data['myDt']=pd.to_datetime(terskol_data[['year','month','day']],format='%Y%m%d',errors='coerce')\n",
    "\n",
    "# делаем эту колонку индексом\n",
    "terskol_data.set_index('myDt', inplace=True)\n",
    "\n",
    "# любуемся на результат\n",
    "print(terskol_data.head())"
   ]
  },
  {
   "cell_type": "markdown",
   "metadata": {},
   "source": [
    "Теперь можно работать с данными,выбирая нужные колонки, например температуру:"
   ]
  },
  {
   "cell_type": "code",
   "execution_count": null,
   "metadata": {},
   "outputs": [],
   "source": [
    "T_terskol=terskol_data.Tmean"
   ]
  },
  {
   "cell_type": "markdown",
   "metadata": {},
   "source": [
    "Как вывести значения температуры в первой строке:"
   ]
  },
  {
   "cell_type": "code",
   "execution_count": null,
   "metadata": {},
   "outputs": [],
   "source": [
    "terskol_data.Tmean[0]"
   ]
  },
  {
   "cell_type": "markdown",
   "metadata": {},
   "source": [
    "Как вывести значения температуры в июле 1977: используем метод `loc`:"
   ]
  },
  {
   "cell_type": "code",
   "execution_count": null,
   "metadata": {},
   "outputs": [],
   "source": [
    "terskol_data.Tmean.loc['1977-07-01':'1977-07-31']"
   ]
  },
  {
   "cell_type": "markdown",
   "metadata": {},
   "source": [
    "Метод describe() нужен для того, чтобы получить быстрое численное описание данных: количество значений, среднее, стандартное отклонение, минимум, $Q_1$, медиана, $Q_3$, максимум.\n",
    "Заметим, что у Tmean и Prec минимум равен -999 либо -999.9, это обозначение отсутствующих данных."
   ]
  },
  {
   "cell_type": "code",
   "execution_count": 27,
   "metadata": {},
   "outputs": [
    {
     "data": {
      "text/html": [
       "<div>\n",
       "<style scoped>\n",
       "    .dataframe tbody tr th:only-of-type {\n",
       "        vertical-align: middle;\n",
       "    }\n",
       "\n",
       "    .dataframe tbody tr th {\n",
       "        vertical-align: top;\n",
       "    }\n",
       "\n",
       "    .dataframe thead th {\n",
       "        text-align: right;\n",
       "    }\n",
       "</style>\n",
       "<table border=\"1\" class=\"dataframe\">\n",
       "  <thead>\n",
       "    <tr style=\"text-align: right;\">\n",
       "      <th></th>\n",
       "      <th>year</th>\n",
       "      <th>month</th>\n",
       "      <th>day</th>\n",
       "      <th>Tmean</th>\n",
       "      <th>Prec</th>\n",
       "    </tr>\n",
       "  </thead>\n",
       "  <tbody>\n",
       "    <tr>\n",
       "      <td>count</td>\n",
       "      <td>15135.000000</td>\n",
       "      <td>15135.000000</td>\n",
       "      <td>15135.000000</td>\n",
       "      <td>15134.000000</td>\n",
       "      <td>15135.000000</td>\n",
       "    </tr>\n",
       "    <tr>\n",
       "      <td>mean</td>\n",
       "      <td>1997.599207</td>\n",
       "      <td>6.511331</td>\n",
       "      <td>15.731087</td>\n",
       "      <td>2.743234</td>\n",
       "      <td>2.698051</td>\n",
       "    </tr>\n",
       "    <tr>\n",
       "      <td>std</td>\n",
       "      <td>12.139896</td>\n",
       "      <td>3.431866</td>\n",
       "      <td>8.803613</td>\n",
       "      <td>8.043604</td>\n",
       "      <td>6.625356</td>\n",
       "    </tr>\n",
       "    <tr>\n",
       "      <td>min</td>\n",
       "      <td>1977.000000</td>\n",
       "      <td>1.000000</td>\n",
       "      <td>1.000000</td>\n",
       "      <td>-22.400000</td>\n",
       "      <td>0.000000</td>\n",
       "    </tr>\n",
       "    <tr>\n",
       "      <td>25%</td>\n",
       "      <td>1987.000000</td>\n",
       "      <td>4.000000</td>\n",
       "      <td>8.000000</td>\n",
       "      <td>-3.200000</td>\n",
       "      <td>0.000000</td>\n",
       "    </tr>\n",
       "    <tr>\n",
       "      <td>50%</td>\n",
       "      <td>1998.000000</td>\n",
       "      <td>7.000000</td>\n",
       "      <td>16.000000</td>\n",
       "      <td>3.300000</td>\n",
       "      <td>0.000000</td>\n",
       "    </tr>\n",
       "    <tr>\n",
       "      <td>75%</td>\n",
       "      <td>2008.000000</td>\n",
       "      <td>9.000000</td>\n",
       "      <td>23.000000</td>\n",
       "      <td>9.600000</td>\n",
       "      <td>2.200000</td>\n",
       "    </tr>\n",
       "    <tr>\n",
       "      <td>max</td>\n",
       "      <td>2018.000000</td>\n",
       "      <td>12.000000</td>\n",
       "      <td>31.000000</td>\n",
       "      <td>22.700000</td>\n",
       "      <td>152.900000</td>\n",
       "    </tr>\n",
       "  </tbody>\n",
       "</table>\n",
       "</div>"
      ],
      "text/plain": [
       "               year         month           day         Tmean          Prec\n",
       "count  15135.000000  15135.000000  15135.000000  15134.000000  15135.000000\n",
       "mean    1997.599207      6.511331     15.731087      2.743234      2.698051\n",
       "std       12.139896      3.431866      8.803613      8.043604      6.625356\n",
       "min     1977.000000      1.000000      1.000000    -22.400000      0.000000\n",
       "25%     1987.000000      4.000000      8.000000     -3.200000      0.000000\n",
       "50%     1998.000000      7.000000     16.000000      3.300000      0.000000\n",
       "75%     2008.000000      9.000000     23.000000      9.600000      2.200000\n",
       "max     2018.000000     12.000000     31.000000     22.700000    152.900000"
      ]
     },
     "execution_count": 27,
     "metadata": {},
     "output_type": "execute_result"
    }
   ],
   "source": [
    "terskol_data.describe()"
   ]
  },
  {
   "cell_type": "markdown",
   "metadata": {},
   "source": [
    "Чтобы было удобнее работать с данными, нужно заменить числа -999 или -999.9 на NaN"
   ]
  },
  {
   "cell_type": "code",
   "execution_count": 26,
   "metadata": {},
   "outputs": [],
   "source": [
    "terskol_data.loc[terskol_data.Prec == -999.90] = np.nan\n",
    "terskol_data.loc[terskol_data.Prec == -999.00] = np.nan\n",
    "terskol_data.loc[terskol_data.Tmean == -999.00] = np.nan\n",
    "\n",
    "# Получилось?\n",
    "terskol_data.describe()"
   ]
  },
  {
   "cell_type": "markdown",
   "metadata": {},
   "source": [
    "Строим график:"
   ]
  },
  {
   "cell_type": "code",
   "execution_count": 29,
   "metadata": {},
   "outputs": [
    {
     "data": {
      "text/plain": [
       "<matplotlib.axes._subplots.AxesSubplot at 0x25df276cf48>"
      ]
     },
     "execution_count": 29,
     "metadata": {},
     "output_type": "execute_result"
    },
    {
     "data": {
      "image/png": "[encoded data removed]",
      "text/plain": [
       "<Figure size 432x288 with 1 Axes>"
      ]
     },
     "metadata": {
      "needs_background": "light"
     },
     "output_type": "display_data"
    }
   ],
   "source": [
    "terskol_data.Tmean.plot()"
   ]
  },
  {
   "cell_type": "markdown",
   "metadata": {},
   "source": [
    "Возьмем данные c апреля 2007 по октябрь 2017 года, для которых пропуска данных не должно быть:"
   ]
  },
  {
   "cell_type": "code",
   "execution_count": null,
   "metadata": {},
   "outputs": [],
   "source": [
    "# Допишите нужный код:\n",
    "#terskol_2007_2017 = terskol_data.loc..."
   ]
  },
  {
   "cell_type": "markdown",
   "metadata": {},
   "source": [
    "Построим график температуры:"
   ]
  },
  {
   "cell_type": "code",
   "execution_count": null,
   "metadata": {},
   "outputs": [],
   "source": [
    "# допишите нужный код\n",
    "# terskol_2007_2017..."
   ]
  },
  {
   "cell_type": "markdown",
   "metadata": {},
   "source": [
    "График осадков:"
   ]
  },
  {
   "cell_type": "code",
   "execution_count": null,
   "metadata": {},
   "outputs": [],
   "source": []
  },
  {
   "cell_type": "markdown",
   "metadata": {},
   "source": [
    "## Задание № 1: описательная статистика"
   ]
  },
  {
   "cell_type": "markdown",
   "metadata": {},
   "source": [
    "Библиотека Seaborn позволяет строить красивые статистические графики влёгкую.\n",
    "Строим гистограмму для температуры:"
   ]
  },
  {
   "cell_type": "code",
   "execution_count": null,
   "metadata": {},
   "outputs": [],
   "source": [
    "sns.distplot(terskol_2007_2017.Tmean, kde = False).set_title(\"Histogram of Temperature in 2007-2017\")"
   ]
  },
  {
   "cell_type": "markdown",
   "metadata": {},
   "source": [
    "Строим boxplot:"
   ]
  },
  {
   "cell_type": "code",
   "execution_count": null,
   "metadata": {},
   "outputs": [],
   "source": [
    "sns.boxplot(terskol_2007_2017.Tmean).set_title(\"Boxplot of Temperature in 2007-2017\")"
   ]
  },
  {
   "cell_type": "markdown",
   "metadata": {},
   "source": [
    "То же самое делаем для осадков.\n",
    "Постройте гистограмму:"
   ]
  },
  {
   "cell_type": "code",
   "execution_count": null,
   "metadata": {},
   "outputs": [],
   "source": []
  },
  {
   "cell_type": "markdown",
   "metadata": {},
   "source": [
    "Постройте boxplot для осадков:"
   ]
  },
  {
   "cell_type": "code",
   "execution_count": null,
   "metadata": {},
   "outputs": [],
   "source": []
  },
  {
   "cell_type": "markdown",
   "metadata": {},
   "source": [
    "Чтобы получить более наглядную картину распределения осадков, уберем нулевые значения и 20% самых больших значений"
   ]
  },
  {
   "cell_type": "code",
   "execution_count": null,
   "metadata": {},
   "outputs": [],
   "source": [
    "# terskol_prec = terskol_2007_2017.Prec.loc......\n",
    "# terskol_prec_positive = terskol_prec(terskol_prec > 0)\n",
    "# terskol_prec_trim = terskol_prec_positive.quantile(0.8)"
   ]
  },
  {
   "cell_type": "markdown",
   "metadata": {},
   "source": [
    "#### Вопрос 1\n",
    "Опишите распределения температуры и осадков:\n",
    "1. mean, min, max, range, median, mode\n",
    "2. standart deviation, IQR\n",
    "3. skewness\n",
    "4. форма распределения (унимодальное или бимодальное или?)\n",
    "5. outliers\n"
   ]
  },
  {
   "cell_type": "markdown",
   "metadata": {},
   "source": [
    "#### Вопрос 2\n",
    "Сравните 2 временных ряда: метеоданные 1977-1987 гг. и 2007-2017 гг.:\n",
    "1. В каком из этих десятилетий было в среднем холоднее?\n",
    "2. В каком десятилетии дисперсия температуры больше?\n"
   ]
  },
  {
   "cell_type": "markdown",
   "metadata": {},
   "source": [
    "## Задание № 2. Разделение данных на части\n",
    "Разделим метеоданные по сезонам.\n",
    "Для этого можно создать так называемый словарь. И пусть"
   ]
  },
  {
   "cell_type": "code",
   "execution_count": null,
   "metadata": {},
   "outputs": [],
   "source": [
    "# Create a Seasonal Dictionary that will map months to seasons\n",
    "SeasonDict = {11: 'Autumn', 12: 'Winter', 1: 'Winter', 2: 'Winter', 3: 'Spring', 4: 'Spring', 5: 'Spring', 6: 'Summer', 7: 'Summer', \\\n",
    "8: 'Summer', 9: 'Autumn', 10: 'Autumn'}\n"
   ]
  },
  {
   "cell_type": "markdown",
   "metadata": {},
   "source": [
    "Создадим новую колонку \"сезон\" в нашей базе данных"
   ]
  },
  {
   "cell_type": "code",
   "execution_count": null,
   "metadata": {},
   "outputs": [],
   "source": [
    "terskol_data['Season'] = \"\""
   ]
  },
  {
   "cell_type": "markdown",
   "metadata": {},
   "source": [
    "Заполним ее нужными значениями в цикле:"
   ]
  },
  {
   "cell_type": "code",
   "execution_count": null,
   "metadata": {},
   "outputs": [],
   "source": [
    "for i in range(len(terskol_data)):\n",
    "    terskol_data.Season[i] = SeasonDict[terskol_data.month[i]]"
   ]
  },
  {
   "cell_type": "markdown",
   "metadata": {},
   "source": [
    "Можно создать отдельные переменные для каждого сезона. Возьмем 2017."
   ]
  },
  {
   "cell_type": "code",
   "execution_count": null,
   "metadata": {},
   "outputs": [],
   "source": [
    "terskol_2017 = terskol_data.loc['2016-03-01':'2017-02-28']\n",
    "\n",
    "winter = terskol_2017.Tmean[terskol_2017.Season=='Winter']\n",
    "spring = terskol_2017.Tmean[terskol_2017.Season=='Spring']\n",
    "summer = terskol_2017.Tmean[terskol_2017.Season=='Summer']\n",
    "fall = terskol_2017.Tmean[terskol_2017.Season=='Autumn']\n"
   ]
  },
  {
   "cell_type": "markdown",
   "metadata": {},
   "source": [
    "Нарисуем 4 подграфика для каждого сезона. Зададим пределы оси ординат: минимальная и максимальная температура."
   ]
  },
  {
   "cell_type": "code",
   "execution_count": null,
   "metadata": {},
   "outputs": [],
   "source": [
    "min_temp = min(terskol_2007_2017.Tmean)\n",
    "max_temp = max(terskol_2007_2017.Tmean)"
   ]
  },
  {
   "cell_type": "markdown",
   "metadata": {},
   "source": [
    "Положение каждого подграфика определяется с помощью позиций axes[i][j]. winter.index значит, что мы обращаемся к индексу (нумерации строк) массива зимних температур, в нашем случае индексом служат даты. С помощью параметра lw задается толщина линии.\n",
    "Менять параметры осей для каждого подграфика приходится в цикле: \n",
    "- задаем одинаковые оси y для каждого сезона\n",
    "- задаем обозначения по оси x - дни (интервал 7 дней) и месяцы"
   ]
  },
  {
   "cell_type": "code",
   "execution_count": null,
   "metadata": {},
   "outputs": [],
   "source": [
    "fig, axes = plt.subplots(nrows=2, ncols=2, figsize=(12,8))\n",
    "\n",
    "ax11 = axes[0][0]\n",
    "\n",
    "ax12 = axes[0][1]\n",
    "\n",
    "ax21 = axes[1][0]\n",
    "\n",
    "ax22 = axes[1][1]\n",
    "\n",
    "line_width = 2.5\n",
    "\n",
    "ax11.plot(winter.index, winter,lw=line_width);\n",
    "\n",
    "ax12.plot(spring.index, spring,'tab:green',lw=line_width);\n",
    "\n",
    "ax21.plot(summer.index, summer,'tab:red',lw=line_width);\n",
    "\n",
    "ax22.plot(fall.index, fall,'tab:orange',lw=line_width);\n",
    "\n",
    "yticks = np.arange(start=-25, stop=31, step=5)\n",
    "\n",
    "# Iterate over all four axes that we have and apply same procedures to each one of them\n",
    "for ax in [ax11, ax12, ax21, ax22]:\n",
    "    # Set limits for y-axes\n",
    "    ax.set_ylim(min_temp,max_temp)\n",
    "    # Set minor ticks with day numbers\n",
    "    ax.xaxis.set_minor_locator(dates.DayLocator(interval=7))\n",
    "    ax.xaxis.set_minor_formatter(dates.DateFormatter('%d'))\n",
    "    # Set major ticks with month names\n",
    "    ax.xaxis.set_major_locator(dates.MonthLocator())\n",
    "    ax.xaxis.set_major_formatter(dates.DateFormatter('\\n%b'))"
   ]
  },
  {
   "cell_type": "markdown",
   "metadata": {},
   "source": [
    "Если данные нужны помесячные (например), в библиотеке Pandas есть метод resample. Посчитаем среднемесячные климатические данные за 2007-2017 годы.\n"
   ]
  },
  {
   "cell_type": "code",
   "execution_count": 12,
   "metadata": {},
   "outputs": [
    {
     "data": {
      "text/html": [
       "<div>\n",
       "<style scoped>\n",
       "    .dataframe tbody tr th:only-of-type {\n",
       "        vertical-align: middle;\n",
       "    }\n",
       "\n",
       "    .dataframe tbody tr th {\n",
       "        vertical-align: top;\n",
       "    }\n",
       "\n",
       "    .dataframe thead th {\n",
       "        text-align: right;\n",
       "    }\n",
       "</style>\n",
       "<table border=\"1\" class=\"dataframe\">\n",
       "  <thead>\n",
       "    <tr style=\"text-align: right;\">\n",
       "      <th></th>\n",
       "      <th>year</th>\n",
       "      <th>month</th>\n",
       "      <th>day</th>\n",
       "      <th>Tmean</th>\n",
       "      <th>Prec</th>\n",
       "    </tr>\n",
       "    <tr>\n",
       "      <th>myDt</th>\n",
       "      <th></th>\n",
       "      <th></th>\n",
       "      <th></th>\n",
       "      <th></th>\n",
       "      <th></th>\n",
       "    </tr>\n",
       "  </thead>\n",
       "  <tbody>\n",
       "    <tr>\n",
       "      <td>2007-01-01</td>\n",
       "      <td>2007</td>\n",
       "      <td>1</td>\n",
       "      <td>1</td>\n",
       "      <td>-13.9</td>\n",
       "      <td>0.0</td>\n",
       "    </tr>\n",
       "    <tr>\n",
       "      <td>2007-01-02</td>\n",
       "      <td>2007</td>\n",
       "      <td>1</td>\n",
       "      <td>2</td>\n",
       "      <td>-13.2</td>\n",
       "      <td>0.0</td>\n",
       "    </tr>\n",
       "    <tr>\n",
       "      <td>2007-01-03</td>\n",
       "      <td>2007</td>\n",
       "      <td>1</td>\n",
       "      <td>3</td>\n",
       "      <td>-3.6</td>\n",
       "      <td>0.0</td>\n",
       "    </tr>\n",
       "    <tr>\n",
       "      <td>2007-01-04</td>\n",
       "      <td>2007</td>\n",
       "      <td>1</td>\n",
       "      <td>4</td>\n",
       "      <td>-2.0</td>\n",
       "      <td>0.0</td>\n",
       "    </tr>\n",
       "    <tr>\n",
       "      <td>2007-01-05</td>\n",
       "      <td>2007</td>\n",
       "      <td>1</td>\n",
       "      <td>5</td>\n",
       "      <td>-3.8</td>\n",
       "      <td>0.0</td>\n",
       "    </tr>\n",
       "  </tbody>\n",
       "</table>\n",
       "</div>"
      ],
      "text/plain": [
       "            year  month  day  Tmean  Prec\n",
       "myDt                                     \n",
       "2007-01-01  2007      1    1  -13.9   0.0\n",
       "2007-01-02  2007      1    2  -13.2   0.0\n",
       "2007-01-03  2007      1    3   -3.6   0.0\n",
       "2007-01-04  2007      1    4   -2.0   0.0\n",
       "2007-01-05  2007      1    5   -3.8   0.0"
      ]
     },
     "execution_count": 12,
     "metadata": {},
     "output_type": "execute_result"
    }
   ],
   "source": [
    "terskol_2007_2017 = terskol_data.loc['2007-01-01':'2017-12-31']\n",
    "terskol_2007_2017.head()"
   ]
  },
  {
   "cell_type": "markdown",
   "metadata": {},
   "source": [
    "С помощью resample посчитаем помесячные данные осадков (аргумент 'M' это и значит) - для этого их надо суммировать (применяем метод sum())"
   ]
  },
  {
   "cell_type": "code",
   "execution_count": 11,
   "metadata": {},
   "outputs": [
    {
     "data": {
      "text/plain": [
       "<matplotlib.axes._subplots.AxesSubplot at 0x25df235b348>"
      ]
     },
     "execution_count": 11,
     "metadata": {},
     "output_type": "execute_result"
    },
    {
     "data": {
      "image/png": "[encoded data removed]",
      "text/plain": [
       "<Figure size 432x288 with 1 Axes>"
      ]
     },
     "metadata": {
      "needs_background": "light"
     },
     "output_type": "display_data"
    }
   ],
   "source": [
    "monthly_P_terskol_2007_2017 = terskol_2007_2017.Prec.resample('M').sum()\n",
    "monthly_P_terskol_2007_2017.plot()"
   ]
  },
  {
   "cell_type": "markdown",
   "metadata": {},
   "source": [
    "*Аналогичным образом посчитайте помесячные данные температуры - какой метод ресэмплинга при этом надо применить?*"
   ]
  },
  {
   "cell_type": "code",
   "execution_count": null,
   "metadata": {},
   "outputs": [],
   "source": [
    "# Допишите код:\n",
    "# monthly_T_terskol_2007_2017 = \n",
    "# monthly_T_terskol_2007_2017.plot()"
   ]
  }
 ],
 "metadata": {
  "kernelspec": {
   "display_name": "Python 3",
   "language": "python",
   "name": "python3"
  },
  "language_info": {
   "codemirror_mode": {
    "name": "ipython",
    "version": 3
   },
   "file_extension": ".py",
   "mimetype": "text/x-python",
   "name": "python",
   "nbconvert_exporter": "python",
   "pygments_lexer": "ipython3",
   "version": "3.7.4"
  }
 },
 "nbformat": 4,
 "nbformat_minor": 2
}
